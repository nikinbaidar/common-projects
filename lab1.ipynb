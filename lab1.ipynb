{
  "nbformat": 4,
  "nbformat_minor": 0,
  "metadata": {
    "colab": {
      "name": "lab1",
      "provenance": [],
      "collapsed_sections": [],
      "include_colab_link": true
    },
    "kernelspec": {
      "name": "python3",
      "display_name": "Python 3"
    },
    "language_info": {
      "name": "python"
    }
  },
  "cells": [
    {
      "cell_type": "markdown",
      "metadata": {
        "id": "view-in-github",
        "colab_type": "text"
      },
      "source": [
        "<a href=\"https://colab.research.google.com/github/nikinbaidarr/common-projects/blob/main/lab1.ipynb\" target=\"_parent\"><img src=\"https://colab.research.google.com/assets/colab-badge.svg\" alt=\"Open In Colab\"/></a>"
      ]
    },
    {
      "cell_type": "markdown",
      "source": [
        "## Full Name:\n",
        "## Email: \n",
        "## Team Members [Full names]: \n",
        "\n",
        "### Deadline: Feb 4, 12PM. Share to: shreeya.khadka@gmail.com"
      ],
      "metadata": {
        "id": "3jl1R26ygwOk"
      }
    },
    {
      "cell_type": "markdown",
      "source": [
        "# 1. Linear Regression with Gradient Descend"
      ],
      "metadata": {
        "id": "boTPzAnoA1pt"
      }
    },
    {
      "cell_type": "code",
      "execution_count": null,
      "metadata": {
        "id": "h9Yicw2YWxAQ"
      },
      "outputs": [],
      "source": [
        "# Import helpers!\n",
        "import numpy as np\n",
        "import pandas as pd\n",
        "from matplotlib import pyplot as plt\n",
        "from scipy import stats #New library: useful for getting numerous scientific operations"
      ]
    },
    {
      "cell_type": "code",
      "source": [
        "x = np.arange(0, 100, 1).reshape(-1, 1)\n",
        "y = 10*x + 10\n",
        "err = stats.norm.rvs(size=x.shape, scale=50, random_state=13) #Sample random variables from normal distribution with std=50 and mean=0\n",
        "y = y + err"
      ],
      "metadata": {
        "id": "ERfuoXcpD2T1"
      },
      "execution_count": null,
      "outputs": []
    },
    {
      "cell_type": "code",
      "source": [
        "plt.scatter(x, y)"
      ],
      "metadata": {
        "id": "pB6TNSoBE8ud",
        "colab": {
          "base_uri": "https://localhost:8080/",
          "height": 282
        },
        "outputId": "e7cb38b7-ab7e-40b3-9b91-f75b984c0298"
      },
      "execution_count": null,
      "outputs": [
        {
          "output_type": "execute_result",
          "data": {
            "text/plain": [
              "<matplotlib.collections.PathCollection at 0x7f88f91ee290>"
            ]
          },
          "metadata": {},
          "execution_count": 3
        },
        {
          "output_type": "display_data",
          "data": {
            "image/png": "[encoded data removed]",
            "text/plain": [
              "<Figure size 432x288 with 1 Axes>"
            ]
          },
          "metadata": {
            "needs_background": "light"
          }
        }
      ]
    },
    {
      "cell_type": "code",
      "source": [
        "print (\"shape x:\", x.shape)\n",
        "print (\"shape y:\", y.shape)"
      ],
      "metadata": {
        "id": "mDjZQwCWPXdR",
        "colab": {
          "base_uri": "https://localhost:8080/"
        },
        "outputId": "56b3254c-5bcd-4c47-f32b-9b0e9556e29f"
      },
      "execution_count": null,
      "outputs": [
        {
          "output_type": "stream",
          "name": "stdout",
          "text": [
            "shape x: (100, 1)\n",
            "shape y: (100, 1)\n"
          ]
        }
      ]
    },
    {
      "cell_type": "markdown",
      "source": [
        "## Recall gradient descend algorithm\n",
        "![Capture.PNG](data:image/png;base64,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)\n",
        "\n",
        "### How would you rewrite this in matrix form?"
      ],
      "metadata": {
        "id": "My3yZa1wf3d-"
      }
    },
    {
      "cell_type": "code",
      "source": [
        "def getLinearPrediction(x, theta):\n",
        "  ''' Return H(x), output shape == x.shape\n",
        "  '''\n",
        "  pass\n",
        "\n",
        "def getLoss(x, y, theta):\n",
        "  ''' Return SSD loss function. Must be a float value\n",
        "  '''\n",
        "  pass\n",
        "\n",
        "def getLossGradient(x, y, theta):\n",
        "  ''' Return gradient of loss function. Shape of output must be equal to shape of theta!\n",
        "  '''\n",
        "  pass\n",
        "\n",
        "\n",
        "def linearRegression(x, y, alpha=0.01, num_iterations=100):\n",
        "  # Initialize theta! \n",
        "  theta = np.zeros((2, 1))\n",
        "\n",
        "  # Save all losses in a list!\n",
        "  losses = []\n",
        "\n",
        "  for i in range(num_iterations):\n",
        "    loss = getLoss(x, y, theta)\n",
        "    losses.append(loss)\n",
        "\n",
        "    # Get gradient!\n",
        "    gradient = getLossGradient(x, y, theta) \n",
        "    \n",
        "    # Upgrade theta!\n",
        "    theta = theta - alpha * gradient\n",
        "  return {\n",
        "      'losses': losses,\n",
        "      'theta': theta,\n",
        "  }\n",
        "\n",
        "\n",
        "alpha = 0.0001\n",
        "num_iterations = 200\n",
        "\n",
        "output = linearRegression(x, y, alpha=alpha, num_iterations=num_iterations)"
      ],
      "metadata": {
        "id": "vTAbLPtsBZrX"
      },
      "execution_count": null,
      "outputs": []
    },
    {
      "cell_type": "code",
      "source": [
        "# Plot prediction!\n",
        "theta = output.get('theta', np.zeros((2, 1)))\n",
        "plt.scatter(x, y, label='Original Points')\n",
        "plt.plot(x, getLinearPrediction(x, theta), label='Fitted Line', color='r')\n",
        "plt.legend()"
      ],
      "metadata": {
        "id": "SsvbFvO7WyXX"
      },
      "execution_count": null,
      "outputs": []
    },
    {
      "cell_type": "code",
      "source": [
        "# Plot losses!\n",
        "losses = output.get('losses', [])\n",
        "plt.plot(losses, label='Losses', color='r')\n",
        "plt.legend()"
      ],
      "metadata": {
        "id": "IUeTCHeSdYR6"
      },
      "execution_count": null,
      "outputs": []
    },
    {
      "cell_type": "code",
      "source": [
        "# A way to check for convergence is to look at how much your losses are reducing per-iteration and stopping the descent if your losses aren't improving anymore.\n",
        "\n",
        "# Rewrite linearRegression function to stop the descend if absolute delta of loss between 2 consecutive iteration is less than input tolerance. \n",
        "# i.e. Break from loop if |loss(i+1) - loss(i)| <= tolerance, where i is iteration index\n",
        "\n",
        "\n",
        "def linearRegression2(x, y, alpha=0.01, num_iterations=100, tolerance=0.005):\n",
        "  # Refer to linearRegression function. Only requires slight adjustments to original code.\n",
        "  pass\n",
        "\n",
        "  \n",
        "alpha = 0.0001\n",
        "num_iterations = 200\n",
        "tolerance = 0.005\n",
        "\n",
        "output = linearRegression2(x, y, alpha=alpha, num_iterations=num_iterations, tolerance=tolerance)"
      ],
      "metadata": {
        "id": "85iZzKcUig3x"
      },
      "execution_count": null,
      "outputs": []
    },
    {
      "cell_type": "code",
      "source": [
        "# Plot losses!\n",
        "losses = output.get('losses', [])\n",
        "plt.plot(losses, label='Losses', color='r')\n",
        "plt.legend()"
      ],
      "metadata": {
        "id": "xc8lI5BxjshS"
      },
      "execution_count": null,
      "outputs": []
    },
    {
      "cell_type": "markdown",
      "source": [
        "### Q) What happends to the gradient descend when the learning rate is increased to 0.001? What about when its lowered to 0.00001? "
      ],
      "metadata": {
        "id": "bLPqlrT0qVyB"
      }
    },
    {
      "cell_type": "code",
      "source": [
        ""
      ],
      "metadata": {
        "id": "Qj7E0nqKqy_H"
      },
      "execution_count": null,
      "outputs": []
    },
    {
      "cell_type": "markdown",
      "source": [
        "#2.  Direct Solution: Obtain closed form solution [Recall: Normal equation]\n"
      ],
      "metadata": {
        "id": "eGr9aYONrFW7"
      }
    },
    {
      "cell_type": "code",
      "source": [
        "def getActualTheta(x, y):\n",
        "  ''' Return actual theta of shape (2, 1)\n",
        "  '''\n",
        "  pass\n",
        "\n",
        "thetaReal = getActualTheta(x, y)"
      ],
      "metadata": {
        "id": "arB0GdTkrYEj"
      },
      "execution_count": null,
      "outputs": []
    },
    {
      "cell_type": "code",
      "source": [
        "# Plot real solution\n",
        "plt.scatter(x, y, label='Original Points')\n",
        "plt.plot(x, getLinearPrediction(x, thetaReal), label='Fitted Line', color='r')\n",
        "plt.legend()"
      ],
      "metadata": {
        "id": "R6sbM3wPriKO"
      },
      "execution_count": null,
      "outputs": []
    },
    {
      "cell_type": "code",
      "source": [
        "# How close are we to the closed form solution?\n",
        "\n",
        "lossReal = getLoss(x, y, thetaReal)\n",
        "output = linearRegression(x, y, alpha=0.000005, num_iterations=200)\n",
        "losses = output.get('losses')\n",
        "plt.plot(losses, label='Gradient Descend Losses', color='r')\n",
        "plt.axhline(lossReal, label='Normal equation Loss', color='b', ls='-.')\n",
        "plt.legend()"
      ],
      "metadata": {
        "id": "BNGKF4mstT5N"
      },
      "execution_count": null,
      "outputs": []
    }
  ]
}